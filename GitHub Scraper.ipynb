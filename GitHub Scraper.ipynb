{
 "cells": [
  {
   "cell_type": "code",
   "execution_count": null,
   "id": "dc5be08c",
   "metadata": {},
   "outputs": [],
   "source": [
    "!pip install selenium\n",
    "!pip install pandas \n",
    "!pip install time\n",
    "!pip install sklearn"
   ]
  },
  {
   "cell_type": "code",
   "execution_count": 48,
   "id": "72c9cdf3",
   "metadata": {},
   "outputs": [],
   "source": [
    "from selenium import webdriver\n",
    "import pandas as pd\n",
    "import time\n",
    "from sklearn.preprocessing import MinMaxScaler\n",
    "from selenium.webdriver.common.keys import Keys"
   ]
  },
  {
   "cell_type": "code",
   "execution_count": 2,
   "id": "23ef2f94",
   "metadata": {},
   "outputs": [],
   "source": [
    "#Please make sure to enter the gmail and password for GitHub in the text file\n",
    "f = open(\"./credentials.txt\", \"r\")\n",
    "email = f.readline()\n",
    "password = f.readline()"
   ]
  },
  {
   "cell_type": "code",
   "execution_count": 3,
   "id": "cc61c2f6",
   "metadata": {},
   "outputs": [
    {
     "name": "stderr",
     "output_type": "stream",
     "text": [
      "<ipython-input-3-60b9e604fc8c>:1: DeprecationWarning: executable_path has been deprecated, please pass in a Service object\n",
      "  driver = webdriver.Chrome('C:/chromedriver')\n"
     ]
    }
   ],
   "source": [
    "driver = webdriver.Chrome('C:/chromedriver')\n",
    "driver.maximize_window()\n",
    "driver.get('https://github.com/login')"
   ]
  },
  {
   "cell_type": "code",
   "execution_count": null,
   "id": "99dbce46",
   "metadata": {},
   "outputs": [],
   "source": []
  },
  {
   "cell_type": "code",
   "execution_count": 4,
   "id": "c8b1e6af",
   "metadata": {},
   "outputs": [],
   "source": [
    "df = pd.DataFrame(columns=['Date','User','Repository'])"
   ]
  },
  {
   "cell_type": "code",
   "execution_count": 5,
   "id": "b958473b",
   "metadata": {},
   "outputs": [
    {
     "name": "stderr",
     "output_type": "stream",
     "text": [
      "<ipython-input-5-849c549a1816>:1: DeprecationWarning: find_element_by_xpath is deprecated. Please use find_element(by=By.XPATH, value=xpath) instead\n",
      "  driver.find_element_by_xpath('//*[@id=\"login_field\"]').send_keys(email)\n",
      "<ipython-input-5-849c549a1816>:2: DeprecationWarning: find_element_by_xpath is deprecated. Please use find_element(by=By.XPATH, value=xpath) instead\n",
      "  driver.find_element_by_xpath('//*[@id=\"password\"]').send_keys(password)\n",
      "<ipython-input-5-849c549a1816>:3: DeprecationWarning: find_element_by_xpath is deprecated. Please use find_element(by=By.XPATH, value=xpath) instead\n",
      "  driver.find_element_by_xpath('//*[@id=\"login\"]/div[4]/form/div/input[11]').click()\n"
     ]
    }
   ],
   "source": [
    "#Logging in GitHub using the credentials provided in the text file\n",
    "driver.find_element_by_xpath('//*[@id=\"login_field\"]').send_keys(email)\n",
    "driver.find_element_by_xpath('//*[@id=\"password\"]').send_keys(password)\n",
    "driver.find_element_by_xpath('//*[@id=\"login\"]/div[4]/form/div/input[11]').click()"
   ]
  },
  {
   "cell_type": "code",
   "execution_count": 6,
   "id": "b672f0ce",
   "metadata": {},
   "outputs": [],
   "source": [
    "#Gets the date of each commit\n",
    "def GetDate(l):\n",
    "    d = l[0].replace(\",\", \"\").split(\" \")\n",
    "    date = d[-3] + \" \" + d[-2] + \" \" + d[-1]\n",
    "    return date"
   ]
  },
  {
   "cell_type": "code",
   "execution_count": 7,
   "id": "9ee9be91",
   "metadata": {},
   "outputs": [],
   "source": [
    "#Gets the users on each repository commits section\n",
    "def GetUsers(l):\n",
    "    users = []\n",
    "    for i in range(len(l)):\n",
    "        word = l[i].split(\" \")\n",
    "        if (len(word) >= 4):\n",
    "            if (word[1] == 'committed'):\n",
    "                users.append(word[0])\n",
    "            elif (word[1] == 'and' and word[3] == 'committed'):\n",
    "                    users.append(word[0])\n",
    "                    users.append(word[2])\n",
    "    return users\n"
   ]
  },
  {
   "cell_type": "code",
   "execution_count": 8,
   "id": "06ab075b",
   "metadata": {},
   "outputs": [],
   "source": [
    "#This function will scrape the repository links. More keywords can be added to the keys list below.\n",
    "def GetRepoLinks():\n",
    "    keys = ['Python', 'C++', 'Ruby', 'Java']\n",
    "    links = []\n",
    "    for i in keys:\n",
    "        driver.get('https://github.com/')\n",
    "        driver.find_element_by_xpath('/html/body/div[1]/header/div[3]/div/div/form/label/input[1]').send_keys(i)\n",
    "        driver.find_element_by_xpath('/html/body/div[1]/header/div[3]/div/div/form/label/input[1]').send_keys(Keys.ENTER)\n",
    "        c = 0\n",
    "        for j in driver.find_elements_by_class_name('v-align-middle'):\n",
    "            if (j.get_attribute('href') != None):\n",
    "                links.append(j.get_attribute('href'))\n",
    "                c = c + 1\n",
    "\n",
    "                if (c == 8):\n",
    "                    break\n",
    "    return links"
   ]
  },
  {
   "cell_type": "code",
   "execution_count": 9,
   "id": "21b0708f",
   "metadata": {},
   "outputs": [
    {
     "name": "stderr",
     "output_type": "stream",
     "text": [
      "<ipython-input-8-653cb6fa9aea>:6: DeprecationWarning: find_element_by_xpath is deprecated. Please use find_element(by=By.XPATH, value=xpath) instead\n",
      "  driver.find_element_by_xpath('/html/body/div[1]/header/div[3]/div/div/form/label/input[1]').send_keys(i)\n",
      "<ipython-input-8-653cb6fa9aea>:7: DeprecationWarning: find_element_by_xpath is deprecated. Please use find_element(by=By.XPATH, value=xpath) instead\n",
      "  driver.find_element_by_xpath('/html/body/div[1]/header/div[3]/div/div/form/label/input[1]').send_keys(Keys.ENTER)\n",
      "<ipython-input-8-653cb6fa9aea>:9: DeprecationWarning: find_elements_by_class_name is deprecated. Please use find_elements(by=By.CLASS_NAME, value=name) instead\n",
      "  for j in driver.find_elements_by_class_name('v-align-middle'):\n"
     ]
    }
   ],
   "source": [
    "links = GetRepoLinks()"
   ]
  },
  {
   "cell_type": "code",
   "execution_count": 10,
   "id": "7aafdf91",
   "metadata": {},
   "outputs": [],
   "source": [
    "def ScrollDown():\n",
    "    SCROLL_PAUSE_TIME = 0.5\n",
    "\n",
    "    # Get scroll height\n",
    "    last_height = driver.execute_script(\"return document.body.scrollHeight\")\n",
    "\n",
    "    while True:\n",
    "        # Scroll down to bottom\n",
    "        driver.execute_script(\"window.scrollTo(0, document.body.scrollHeight);\")\n",
    "\n",
    "        # Wait to load page\n",
    "        time.sleep(SCROLL_PAUSE_TIME)\n",
    "\n",
    "        # Calculate new scroll height and compare with last scroll height\n",
    "        new_height = driver.execute_script(\"return document.body.scrollHeight\")\n",
    "        if new_height == last_height:\n",
    "            break\n",
    "        last_height = new_height"
   ]
  },
  {
   "cell_type": "code",
   "execution_count": 11,
   "id": "a4e3585d",
   "metadata": {},
   "outputs": [],
   "source": [
    "#GetName returns the name of the repository the scraper is on\n",
    "\n",
    "def GetName():\n",
    "    l = driver.find_element_by_xpath('//*[@id=\"repository-container-header\"]/div[1]/div/div').text.split(\"\\n\")\n",
    "    name = l[0] + l[1] + l[2]\n",
    "    return name"
   ]
  },
  {
   "cell_type": "code",
   "execution_count": 12,
   "id": "6a499ef6",
   "metadata": {
    "collapsed": true
   },
   "outputs": [
    {
     "name": "stderr",
     "output_type": "stream",
     "text": [
      "<ipython-input-11-4df7130935b0>:2: DeprecationWarning: find_element_by_xpath is deprecated. Please use find_element(by=By.XPATH, value=xpath) instead\n",
      "  l = driver.find_element_by_xpath('//*[@id=\"repository-container-header\"]/div[1]/div/div').text.split(\"\\n\")\n",
      "<ipython-input-12-9a93285f98b3>:16: DeprecationWarning: find_elements_by_class_name is deprecated. Please use find_elements(by=By.CLASS_NAME, value=name) instead\n",
      "  l = driver.find_elements_by_class_name('TimelineItem-body')\n",
      "<ipython-input-12-9a93285f98b3>:21: DeprecationWarning: find_elements_by_class_name is deprecated. Please use find_elements(by=By.CLASS_NAME, value=name) instead\n",
      "  l = driver.find_elements_by_class_name('TimelineItem-body')\n",
      "<ipython-input-12-9a93285f98b3>:39: DeprecationWarning: find_element_by_link_text is deprecated. Please use find_element(by=By.LINK_TEXT, value=link_text) instead\n",
      "  driver.find_element_by_link_text(\"Older\").click()\n"
     ]
    },
    {
     "ename": "NoSuchElementException",
     "evalue": "Message: no such element: Unable to locate element: {\"method\":\"xpath\",\"selector\":\"//*[@id=\"repository-container-header\"]/div[1]/div/div\"}\n  (Session info: chrome=107.0.5304.88)\nStacktrace:\nBacktrace:\n\tOrdinal0 [0x005B1ED3+2236115]\n\tOrdinal0 [0x005492F1+1807089]\n\tOrdinal0 [0x004566FD+812797]\n\tOrdinal0 [0x004855DF+1005023]\n\tOrdinal0 [0x004857CB+1005515]\n\tOrdinal0 [0x004B7632+1209906]\n\tOrdinal0 [0x004A1AD4+1120980]\n\tOrdinal0 [0x004B59E2+1202658]\n\tOrdinal0 [0x004A18A6+1120422]\n\tOrdinal0 [0x0047A73D+960317]\n\tOrdinal0 [0x0047B71F+964383]\n\tGetHandleVerifier [0x0085E7E2+2743074]\n\tGetHandleVerifier [0x008508D4+2685972]\n\tGetHandleVerifier [0x00642BAA+532202]\n\tGetHandleVerifier [0x00641990+527568]\n\tOrdinal0 [0x0055080C+1837068]\n\tOrdinal0 [0x00554CD8+1854680]\n\tOrdinal0 [0x00554DC5+1854917]\n\tOrdinal0 [0x0055ED64+1895780]\n\tBaseThreadInitThunk [0x752EFEF9+25]\n\tRtlGetAppContainerNamedObjectPath [0x77267BBE+286]\n\tRtlGetAppContainerNamedObjectPath [0x77267B8E+238]\n",
     "output_type": "error",
     "traceback": [
      "\u001b[1;31m---------------------------------------------------------------------------\u001b[0m",
      "\u001b[1;31mNoSuchElementException\u001b[0m                    Traceback (most recent call last)",
      "\u001b[1;32m<ipython-input-12-9a93285f98b3>\u001b[0m in \u001b[0;36m<module>\u001b[1;34m\u001b[0m\n\u001b[0;32m     11\u001b[0m         \u001b[0murl\u001b[0m \u001b[1;33m=\u001b[0m \u001b[0mdriver\u001b[0m\u001b[1;33m.\u001b[0m\u001b[0mcurrent_url\u001b[0m\u001b[1;33m\u001b[0m\u001b[1;33m\u001b[0m\u001b[0m\n\u001b[0;32m     12\u001b[0m \u001b[1;33m\u001b[0m\u001b[0m\n\u001b[1;32m---> 13\u001b[1;33m         \u001b[0mname\u001b[0m \u001b[1;33m=\u001b[0m \u001b[0mGetName\u001b[0m\u001b[1;33m(\u001b[0m\u001b[1;33m)\u001b[0m\u001b[1;33m\u001b[0m\u001b[1;33m\u001b[0m\u001b[0m\n\u001b[0m\u001b[0;32m     14\u001b[0m         \u001b[0mtime\u001b[0m\u001b[1;33m.\u001b[0m\u001b[0msleep\u001b[0m\u001b[1;33m(\u001b[0m\u001b[1;36m3.5\u001b[0m\u001b[1;33m)\u001b[0m\u001b[1;33m\u001b[0m\u001b[1;33m\u001b[0m\u001b[0m\n\u001b[0;32m     15\u001b[0m \u001b[1;33m\u001b[0m\u001b[0m\n",
      "\u001b[1;32m<ipython-input-11-4df7130935b0>\u001b[0m in \u001b[0;36mGetName\u001b[1;34m()\u001b[0m\n\u001b[0;32m      1\u001b[0m \u001b[1;32mdef\u001b[0m \u001b[0mGetName\u001b[0m\u001b[1;33m(\u001b[0m\u001b[1;33m)\u001b[0m\u001b[1;33m:\u001b[0m\u001b[1;33m\u001b[0m\u001b[1;33m\u001b[0m\u001b[0m\n\u001b[1;32m----> 2\u001b[1;33m     \u001b[0ml\u001b[0m \u001b[1;33m=\u001b[0m \u001b[0mdriver\u001b[0m\u001b[1;33m.\u001b[0m\u001b[0mfind_element_by_xpath\u001b[0m\u001b[1;33m(\u001b[0m\u001b[1;34m'//*[@id=\"repository-container-header\"]/div[1]/div/div'\u001b[0m\u001b[1;33m)\u001b[0m\u001b[1;33m.\u001b[0m\u001b[0mtext\u001b[0m\u001b[1;33m.\u001b[0m\u001b[0msplit\u001b[0m\u001b[1;33m(\u001b[0m\u001b[1;34m\"\\n\"\u001b[0m\u001b[1;33m)\u001b[0m\u001b[1;33m\u001b[0m\u001b[1;33m\u001b[0m\u001b[0m\n\u001b[0m\u001b[0;32m      3\u001b[0m     \u001b[0mname\u001b[0m \u001b[1;33m=\u001b[0m \u001b[0ml\u001b[0m\u001b[1;33m[\u001b[0m\u001b[1;36m0\u001b[0m\u001b[1;33m]\u001b[0m \u001b[1;33m+\u001b[0m \u001b[0ml\u001b[0m\u001b[1;33m[\u001b[0m\u001b[1;36m1\u001b[0m\u001b[1;33m]\u001b[0m \u001b[1;33m+\u001b[0m \u001b[0ml\u001b[0m\u001b[1;33m[\u001b[0m\u001b[1;36m2\u001b[0m\u001b[1;33m]\u001b[0m\u001b[1;33m\u001b[0m\u001b[1;33m\u001b[0m\u001b[0m\n\u001b[0;32m      4\u001b[0m     \u001b[1;32mreturn\u001b[0m \u001b[0mname\u001b[0m\u001b[1;33m\u001b[0m\u001b[1;33m\u001b[0m\u001b[0m\n",
      "\u001b[1;32m~\\anaconda3\\lib\\site-packages\\selenium\\webdriver\\remote\\webdriver.py\u001b[0m in \u001b[0;36mfind_element_by_xpath\u001b[1;34m(self, xpath)\u001b[0m\n\u001b[0;32m    519\u001b[0m             \u001b[0mstacklevel\u001b[0m\u001b[1;33m=\u001b[0m\u001b[1;36m2\u001b[0m\u001b[1;33m,\u001b[0m\u001b[1;33m\u001b[0m\u001b[1;33m\u001b[0m\u001b[0m\n\u001b[0;32m    520\u001b[0m         )\n\u001b[1;32m--> 521\u001b[1;33m         \u001b[1;32mreturn\u001b[0m \u001b[0mself\u001b[0m\u001b[1;33m.\u001b[0m\u001b[0mfind_element\u001b[0m\u001b[1;33m(\u001b[0m\u001b[0mby\u001b[0m\u001b[1;33m=\u001b[0m\u001b[0mBy\u001b[0m\u001b[1;33m.\u001b[0m\u001b[0mXPATH\u001b[0m\u001b[1;33m,\u001b[0m \u001b[0mvalue\u001b[0m\u001b[1;33m=\u001b[0m\u001b[0mxpath\u001b[0m\u001b[1;33m)\u001b[0m\u001b[1;33m\u001b[0m\u001b[1;33m\u001b[0m\u001b[0m\n\u001b[0m\u001b[0;32m    522\u001b[0m \u001b[1;33m\u001b[0m\u001b[0m\n\u001b[0;32m    523\u001b[0m     \u001b[1;32mdef\u001b[0m \u001b[0mfind_elements_by_xpath\u001b[0m\u001b[1;33m(\u001b[0m\u001b[0mself\u001b[0m\u001b[1;33m,\u001b[0m \u001b[0mxpath\u001b[0m\u001b[1;33m)\u001b[0m \u001b[1;33m->\u001b[0m \u001b[0mList\u001b[0m\u001b[1;33m[\u001b[0m\u001b[0mWebElement\u001b[0m\u001b[1;33m]\u001b[0m\u001b[1;33m:\u001b[0m\u001b[1;33m\u001b[0m\u001b[1;33m\u001b[0m\u001b[0m\n",
      "\u001b[1;32m~\\anaconda3\\lib\\site-packages\\selenium\\webdriver\\remote\\webdriver.py\u001b[0m in \u001b[0;36mfind_element\u001b[1;34m(self, by, value)\u001b[0m\n\u001b[0;32m   1246\u001b[0m             \u001b[0mvalue\u001b[0m \u001b[1;33m=\u001b[0m \u001b[1;34m'[name=\"%s\"]'\u001b[0m \u001b[1;33m%\u001b[0m \u001b[0mvalue\u001b[0m\u001b[1;33m\u001b[0m\u001b[1;33m\u001b[0m\u001b[0m\n\u001b[0;32m   1247\u001b[0m \u001b[1;33m\u001b[0m\u001b[0m\n\u001b[1;32m-> 1248\u001b[1;33m         return self.execute(Command.FIND_ELEMENT, {\n\u001b[0m\u001b[0;32m   1249\u001b[0m             \u001b[1;34m'using'\u001b[0m\u001b[1;33m:\u001b[0m \u001b[0mby\u001b[0m\u001b[1;33m,\u001b[0m\u001b[1;33m\u001b[0m\u001b[1;33m\u001b[0m\u001b[0m\n\u001b[0;32m   1250\u001b[0m             'value': value})['value']\n",
      "\u001b[1;32m~\\anaconda3\\lib\\site-packages\\selenium\\webdriver\\remote\\webdriver.py\u001b[0m in \u001b[0;36mexecute\u001b[1;34m(self, driver_command, params)\u001b[0m\n\u001b[0;32m    423\u001b[0m         \u001b[0mresponse\u001b[0m \u001b[1;33m=\u001b[0m \u001b[0mself\u001b[0m\u001b[1;33m.\u001b[0m\u001b[0mcommand_executor\u001b[0m\u001b[1;33m.\u001b[0m\u001b[0mexecute\u001b[0m\u001b[1;33m(\u001b[0m\u001b[0mdriver_command\u001b[0m\u001b[1;33m,\u001b[0m \u001b[0mparams\u001b[0m\u001b[1;33m)\u001b[0m\u001b[1;33m\u001b[0m\u001b[1;33m\u001b[0m\u001b[0m\n\u001b[0;32m    424\u001b[0m         \u001b[1;32mif\u001b[0m \u001b[0mresponse\u001b[0m\u001b[1;33m:\u001b[0m\u001b[1;33m\u001b[0m\u001b[1;33m\u001b[0m\u001b[0m\n\u001b[1;32m--> 425\u001b[1;33m             \u001b[0mself\u001b[0m\u001b[1;33m.\u001b[0m\u001b[0merror_handler\u001b[0m\u001b[1;33m.\u001b[0m\u001b[0mcheck_response\u001b[0m\u001b[1;33m(\u001b[0m\u001b[0mresponse\u001b[0m\u001b[1;33m)\u001b[0m\u001b[1;33m\u001b[0m\u001b[1;33m\u001b[0m\u001b[0m\n\u001b[0m\u001b[0;32m    426\u001b[0m             response['value'] = self._unwrap_value(\n\u001b[0;32m    427\u001b[0m                 response.get('value', None))\n",
      "\u001b[1;32m~\\anaconda3\\lib\\site-packages\\selenium\\webdriver\\remote\\errorhandler.py\u001b[0m in \u001b[0;36mcheck_response\u001b[1;34m(self, response)\u001b[0m\n\u001b[0;32m    245\u001b[0m                 \u001b[0malert_text\u001b[0m \u001b[1;33m=\u001b[0m \u001b[0mvalue\u001b[0m\u001b[1;33m[\u001b[0m\u001b[1;34m'alert'\u001b[0m\u001b[1;33m]\u001b[0m\u001b[1;33m.\u001b[0m\u001b[0mget\u001b[0m\u001b[1;33m(\u001b[0m\u001b[1;34m'text'\u001b[0m\u001b[1;33m)\u001b[0m\u001b[1;33m\u001b[0m\u001b[1;33m\u001b[0m\u001b[0m\n\u001b[0;32m    246\u001b[0m             \u001b[1;32mraise\u001b[0m \u001b[0mexception_class\u001b[0m\u001b[1;33m(\u001b[0m\u001b[0mmessage\u001b[0m\u001b[1;33m,\u001b[0m \u001b[0mscreen\u001b[0m\u001b[1;33m,\u001b[0m \u001b[0mstacktrace\u001b[0m\u001b[1;33m,\u001b[0m \u001b[0malert_text\u001b[0m\u001b[1;33m)\u001b[0m  \u001b[1;31m# type: ignore[call-arg]  # mypy is not smart enough here\u001b[0m\u001b[1;33m\u001b[0m\u001b[1;33m\u001b[0m\u001b[0m\n\u001b[1;32m--> 247\u001b[1;33m         \u001b[1;32mraise\u001b[0m \u001b[0mexception_class\u001b[0m\u001b[1;33m(\u001b[0m\u001b[0mmessage\u001b[0m\u001b[1;33m,\u001b[0m \u001b[0mscreen\u001b[0m\u001b[1;33m,\u001b[0m \u001b[0mstacktrace\u001b[0m\u001b[1;33m)\u001b[0m\u001b[1;33m\u001b[0m\u001b[1;33m\u001b[0m\u001b[0m\n\u001b[0m\u001b[0;32m    248\u001b[0m \u001b[1;33m\u001b[0m\u001b[0m\n\u001b[0;32m    249\u001b[0m     \u001b[1;32mdef\u001b[0m \u001b[0m_value_or_default\u001b[0m\u001b[1;33m(\u001b[0m\u001b[0mself\u001b[0m\u001b[1;33m,\u001b[0m \u001b[0mobj\u001b[0m\u001b[1;33m:\u001b[0m \u001b[0mMapping\u001b[0m\u001b[1;33m[\u001b[0m\u001b[0m_KT\u001b[0m\u001b[1;33m,\u001b[0m \u001b[0m_VT\u001b[0m\u001b[1;33m]\u001b[0m\u001b[1;33m,\u001b[0m \u001b[0mkey\u001b[0m\u001b[1;33m:\u001b[0m \u001b[0m_KT\u001b[0m\u001b[1;33m,\u001b[0m \u001b[0mdefault\u001b[0m\u001b[1;33m:\u001b[0m \u001b[0m_VT\u001b[0m\u001b[1;33m)\u001b[0m \u001b[1;33m->\u001b[0m \u001b[0m_VT\u001b[0m\u001b[1;33m:\u001b[0m\u001b[1;33m\u001b[0m\u001b[1;33m\u001b[0m\u001b[0m\n",
      "\u001b[1;31mNoSuchElementException\u001b[0m: Message: no such element: Unable to locate element: {\"method\":\"xpath\",\"selector\":\"//*[@id=\"repository-container-header\"]/div[1]/div/div\"}\n  (Session info: chrome=107.0.5304.88)\nStacktrace:\nBacktrace:\n\tOrdinal0 [0x005B1ED3+2236115]\n\tOrdinal0 [0x005492F1+1807089]\n\tOrdinal0 [0x004566FD+812797]\n\tOrdinal0 [0x004855DF+1005023]\n\tOrdinal0 [0x004857CB+1005515]\n\tOrdinal0 [0x004B7632+1209906]\n\tOrdinal0 [0x004A1AD4+1120980]\n\tOrdinal0 [0x004B59E2+1202658]\n\tOrdinal0 [0x004A18A6+1120422]\n\tOrdinal0 [0x0047A73D+960317]\n\tOrdinal0 [0x0047B71F+964383]\n\tGetHandleVerifier [0x0085E7E2+2743074]\n\tGetHandleVerifier [0x008508D4+2685972]\n\tGetHandleVerifier [0x00642BAA+532202]\n\tGetHandleVerifier [0x00641990+527568]\n\tOrdinal0 [0x0055080C+1837068]\n\tOrdinal0 [0x00554CD8+1854680]\n\tOrdinal0 [0x00554DC5+1854917]\n\tOrdinal0 [0x0055ED64+1895780]\n\tBaseThreadInitThunk [0x752EFEF9+25]\n\tRtlGetAppContainerNamedObjectPath [0x77267BBE+286]\n\tRtlGetAppContainerNamedObjectPath [0x77267B8E+238]\n"
     ]
    }
   ],
   "source": [
    "#Mining all the user commits for each repository\n",
    "\n",
    "for link in links:\n",
    "    link = link + '/commits/master'\n",
    "    driver.get(link)\n",
    "    cond = False\n",
    "    url2 = ''\n",
    "    cond = False\n",
    "    for j in range(30):\n",
    "        if (cond == True):\n",
    "            break\n",
    "        #print (\"Url is\", link)\n",
    "        url = driver.current_url\n",
    "\n",
    "        name = GetName()\n",
    "        time.sleep(3.5)\n",
    "\n",
    "        l = driver.find_elements_by_class_name('TimelineItem-body')\n",
    "        text = []\n",
    "        for i in l:\n",
    "            text.append(i.text)\n",
    "        for i in text:\n",
    "            l = driver.find_elements_by_class_name('TimelineItem-body')\n",
    "            i = i.split(\"\\n\")\n",
    "            date = GetDate(i)\n",
    "            if (date.split(\" \")[-1] == '2018'):\n",
    "                cond = True\n",
    "                break\n",
    "\n",
    "            users = GetUsers(i)\n",
    "            for user in users:\n",
    "                row1 = pd.Series([date, user, name], index=df.columns)\n",
    "                df = df.append(row1,ignore_index=True)\n",
    "\n",
    "\n",
    "                ScrollDown()\n",
    "                time.sleep(0.5)\n",
    "\n",
    "        try:\n",
    "            ScrollDown()\n",
    "            #finding old pages of that repository to be scraped\n",
    "            driver.find_element_by_link_text(\"Older\").click()\n",
    "            #print (\"Clicked on\", link)\n",
    "            time.sleep(0.5)\n",
    "        except:\n",
    "            pass\n",
    "        url2 = driver.current_url\n",
    "\n",
    "\n",
    "    "
   ]
  },
  {
   "cell_type": "code",
   "execution_count": 38,
   "id": "47d67510",
   "metadata": {},
   "outputs": [],
   "source": [
    "#Creating the final dataset\n",
    "\n",
    "final_df = pd.DataFrame(columns=['Repository','Effort'])"
   ]
  },
  {
   "cell_type": "code",
   "execution_count": 16,
   "id": "330b7591",
   "metadata": {},
   "outputs": [],
   "source": [
    "df.to_csv('file2.csv', header=False, index=False)\n"
   ]
  },
  {
   "cell_type": "code",
   "execution_count": 44,
   "id": "7635c20c",
   "metadata": {},
   "outputs": [
    {
     "name": "stdout",
     "output_type": "stream",
     "text": [
      "3046042\n",
      "56700\n",
      "4032\n",
      "30\n",
      "88200\n",
      "157500\n",
      "103950\n",
      "111720\n"
     ]
    }
   ],
   "source": [
    "#Creating a new dataframe that shows the effort for each repository, based on the current dataset. \n",
    "\n",
    "for i in df['Repository'].unique():\n",
    "    df2 = df[df['Repository'] == i]\n",
    "    num_of_commits = len(df2)\n",
    "    num_of_active_users = len(df2['User'].unique())\n",
    "    num_of_active_days = len(df2['Date'].unique())\n",
    "    effort = num_of_commits * num_of_active_users * num_of_active_days\n",
    "    print (effort)\n",
    "    row1 = pd.Series([i, effort], index=final_df.columns)\n",
    "    final_df = final_df.append(row1,ignore_index=True)\n",
    "    "
   ]
  },
  {
   "cell_type": "code",
   "execution_count": 52,
   "id": "d7e23cec",
   "metadata": {},
   "outputs": [
    {
     "data": {
      "text/html": [
       "<div>\n",
       "<style scoped>\n",
       "    .dataframe tbody tr th:only-of-type {\n",
       "        vertical-align: middle;\n",
       "    }\n",
       "\n",
       "    .dataframe tbody tr th {\n",
       "        vertical-align: top;\n",
       "    }\n",
       "\n",
       "    .dataframe thead th {\n",
       "        text-align: right;\n",
       "    }\n",
       "</style>\n",
       "<table border=\"1\" class=\"dataframe\">\n",
       "  <thead>\n",
       "    <tr style=\"text-align: right;\">\n",
       "      <th></th>\n",
       "      <th>Repository</th>\n",
       "      <th>Effort</th>\n",
       "    </tr>\n",
       "  </thead>\n",
       "  <tbody>\n",
       "    <tr>\n",
       "      <th>0</th>\n",
       "      <td>TheAlgorithms/Python</td>\n",
       "      <td>3046042</td>\n",
       "    </tr>\n",
       "    <tr>\n",
       "      <th>1</th>\n",
       "      <td>geekcomputers/Python</td>\n",
       "      <td>56700</td>\n",
       "    </tr>\n",
       "    <tr>\n",
       "      <th>2</th>\n",
       "      <td>walter201230/Python</td>\n",
       "      <td>4032</td>\n",
       "    </tr>\n",
       "    <tr>\n",
       "      <th>3</th>\n",
       "      <td>injetlee/Python</td>\n",
       "      <td>30</td>\n",
       "    </tr>\n",
       "    <tr>\n",
       "      <th>4</th>\n",
       "      <td>kubernetes-client/python</td>\n",
       "      <td>88200</td>\n",
       "    </tr>\n",
       "    <tr>\n",
       "      <th>5</th>\n",
       "      <td>Show-Me-the-Code/python</td>\n",
       "      <td>157500</td>\n",
       "    </tr>\n",
       "    <tr>\n",
       "      <th>6</th>\n",
       "      <td>xxg1413/python</td>\n",
       "      <td>103950</td>\n",
       "    </tr>\n",
       "    <tr>\n",
       "      <th>7</th>\n",
       "      <td>grpc/grpc</td>\n",
       "      <td>111720</td>\n",
       "    </tr>\n",
       "  </tbody>\n",
       "</table>\n",
       "</div>"
      ],
      "text/plain": [
       "                 Repository   Effort\n",
       "0      TheAlgorithms/Python  3046042\n",
       "1      geekcomputers/Python    56700\n",
       "2       walter201230/Python     4032\n",
       "3           injetlee/Python       30\n",
       "4  kubernetes-client/python    88200\n",
       "5   Show-Me-the-Code/python   157500\n",
       "6            xxg1413/python   103950\n",
       "7                 grpc/grpc   111720"
      ]
     },
     "execution_count": 52,
     "metadata": {},
     "output_type": "execute_result"
    }
   ],
   "source": [
    "final_df"
   ]
  },
  {
   "cell_type": "code",
   "execution_count": 54,
   "id": "d8a4ce5a",
   "metadata": {
    "scrolled": true
   },
   "outputs": [],
   "source": [
    "#Min Max Scaling the Effort column\n",
    "\n",
    "column = 'Effort'\n",
    "final_df[column] = (final_df[column] - final_df[column].min()) / (final_df[column].max() - final_df[column].min())    \n"
   ]
  },
  {
   "cell_type": "code",
   "execution_count": 55,
   "id": "3ed817dc",
   "metadata": {},
   "outputs": [
    {
     "data": {
      "text/html": [
       "<div>\n",
       "<style scoped>\n",
       "    .dataframe tbody tr th:only-of-type {\n",
       "        vertical-align: middle;\n",
       "    }\n",
       "\n",
       "    .dataframe tbody tr th {\n",
       "        vertical-align: top;\n",
       "    }\n",
       "\n",
       "    .dataframe thead th {\n",
       "        text-align: right;\n",
       "    }\n",
       "</style>\n",
       "<table border=\"1\" class=\"dataframe\">\n",
       "  <thead>\n",
       "    <tr style=\"text-align: right;\">\n",
       "      <th></th>\n",
       "      <th>Repository</th>\n",
       "      <th>Effort</th>\n",
       "    </tr>\n",
       "  </thead>\n",
       "  <tbody>\n",
       "    <tr>\n",
       "      <th>0</th>\n",
       "      <td>TheAlgorithms/Python</td>\n",
       "      <td>1.0</td>\n",
       "    </tr>\n",
       "    <tr>\n",
       "      <th>1</th>\n",
       "      <td>geekcomputers/Python</td>\n",
       "      <td>0.018605</td>\n",
       "    </tr>\n",
       "    <tr>\n",
       "      <th>2</th>\n",
       "      <td>walter201230/Python</td>\n",
       "      <td>0.001314</td>\n",
       "    </tr>\n",
       "    <tr>\n",
       "      <th>3</th>\n",
       "      <td>injetlee/Python</td>\n",
       "      <td>0.0</td>\n",
       "    </tr>\n",
       "    <tr>\n",
       "      <th>4</th>\n",
       "      <td>kubernetes-client/python</td>\n",
       "      <td>0.028946</td>\n",
       "    </tr>\n",
       "    <tr>\n",
       "      <th>5</th>\n",
       "      <td>Show-Me-the-Code/python</td>\n",
       "      <td>0.051697</td>\n",
       "    </tr>\n",
       "    <tr>\n",
       "      <th>6</th>\n",
       "      <td>xxg1413/python</td>\n",
       "      <td>0.034117</td>\n",
       "    </tr>\n",
       "    <tr>\n",
       "      <th>7</th>\n",
       "      <td>grpc/grpc</td>\n",
       "      <td>0.036668</td>\n",
       "    </tr>\n",
       "  </tbody>\n",
       "</table>\n",
       "</div>"
      ],
      "text/plain": [
       "                 Repository    Effort\n",
       "0      TheAlgorithms/Python       1.0\n",
       "1      geekcomputers/Python  0.018605\n",
       "2       walter201230/Python  0.001314\n",
       "3           injetlee/Python       0.0\n",
       "4  kubernetes-client/python  0.028946\n",
       "5   Show-Me-the-Code/python  0.051697\n",
       "6            xxg1413/python  0.034117\n",
       "7                 grpc/grpc  0.036668"
      ]
     },
     "execution_count": 55,
     "metadata": {},
     "output_type": "execute_result"
    }
   ],
   "source": [
    "final_df"
   ]
  },
  {
   "cell_type": "code",
   "execution_count": null,
   "id": "20f71bbc",
   "metadata": {},
   "outputs": [],
   "source": []
  }
 ],
 "metadata": {
  "kernelspec": {
   "display_name": "Python 3",
   "language": "python",
   "name": "python3"
  }
 },
 "nbformat": 4,
 "nbformat_minor": 5
}
